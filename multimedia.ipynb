{
  "nbformat": 4,
  "nbformat_minor": 0,
  "metadata": {
    "colab": {
      "provenance": [],
      "authorship_tag": "ABX9TyOekeomGk2TidJbN9j4O2Ni",
      "include_colab_link": true
    },
    "kernelspec": {
      "name": "python3",
      "display_name": "Python 3"
    },
    "language_info": {
      "name": "python"
    }
  },
  "cells": [
    {
      "cell_type": "markdown",
      "metadata": {
        "id": "view-in-github",
        "colab_type": "text"
      },
      "source": [
        "<a href=\"https://colab.research.google.com/github/vishakhaghete16/Python/blob/main/multimedia.ipynb\" target=\"_parent\"><img src=\"https://colab.research.google.com/assets/colab-badge.svg\" alt=\"Open In Colab\"/></a>"
      ]
    },
    {
      "cell_type": "code",
      "execution_count": null,
      "metadata": {
        "id": "LeO1P4U718fV"
      },
      "outputs": [],
      "source": [
        "import cv2\n",
        "import mediapipe as mp\n",
        "import pyautogui\n",
        "import time\n",
        "\n",
        "def count_fingers(lst):\n",
        "    cnt = 0\n",
        "\n",
        "    thresh = (lst.landmark[0].y*100 - lst.landmark[9].y*100)/2\n",
        "\n",
        "    if (lst.landmark[5].y*100 - lst.landmark[8].y*100) > thresh:\n",
        "        cnt += 1\n",
        "\n",
        "    if (lst.landmark[9].y*100 - lst.landmark[12].y*100) > thresh:\n",
        "        cnt += 1\n",
        "\n",
        "    if (lst.landmark[13].y*100 - lst.landmark[16].y*100) > thresh:\n",
        "        cnt += 1\n",
        "\n",
        "    if (lst.landmark[17].y*100 - lst.landmark[20].y*100) > thresh:\n",
        "        cnt += 1\n",
        "\n",
        "    if (lst.landmark[5].x*100 - lst.landmark[4].x*100) > 6:\n",
        "        cnt += 1\n",
        "\n",
        "\n",
        "    return cnt\n",
        "\n",
        "cap = cv2.VideoCapture(0)\n",
        "\n",
        "drawing = mp.solutions.drawing_utils\n",
        "hands = mp.solutions.hands\n",
        "hand_obj = hands.Hands(max_num_hands=1)\n",
        "\n",
        "\n",
        "start_init = False\n",
        "\n",
        "prev = -1\n",
        "\n",
        "while True:\n",
        "    end_time = time.time()\n",
        "    _, frm = cap.read()\n",
        "    frm = cv2.flip(frm, 1)\n",
        "\n",
        "    res = hand_obj.process(cv2.cvtColor(frm, cv2.COLOR_BGR2RGB))\n",
        "\n",
        "    if res.multi_hand_landmarks:\n",
        "\n",
        "        hand_keyPoints = res.multi_hand_landmarks[0]\n",
        "\n",
        "        cnt = count_fingers(hand_keyPoints)\n",
        "\n",
        "        if not(prev==cnt):\n",
        "            if not(start_init):\n",
        "                start_time = time.time()\n",
        "                start_init = True\n",
        "\n",
        "            elif (end_time-start_time) > 0.2:\n",
        "                if (cnt == 1):\n",
        "                    pyautogui.press(\"right\")\n",
        "\n",
        "                elif (cnt == 2):\n",
        "                    pyautogui.press(\"left\")\n",
        "\n",
        "                elif (cnt == 3):\n",
        "                    pyautogui.press(\"up\")\n",
        "\n",
        "                elif (cnt == 4):\n",
        "                    pyautogui.press(\"down\")\n",
        "\n",
        "                elif (cnt == 5):\n",
        "                    pyautogui.press(\"space\")\n",
        "\n",
        "                prev = cnt\n",
        "                start_init = False\n",
        "\n",
        "\n",
        "\n",
        "\n",
        "\n",
        "        drawing.draw_landmarks(frm, hand_keyPoints, hands.HAND_CONNECTIONS)\n",
        "\n",
        "    cv2.imshow(\"window\", frm)\n",
        "\n",
        "    if cv2.waitKey(1) == 27:\n",
        "        cv2.destroyAllWindows()\n",
        "        cap.release()\n",
        "        break"
      ]
    }
  ]
}